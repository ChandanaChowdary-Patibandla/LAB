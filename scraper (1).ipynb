{
 "cells": [
  {
   "cell_type": "code",
   "execution_count": 1,
   "id": "51bcd8ca",
   "metadata": {},
   "outputs": [
    {
     "name": "stdout",
     "output_type": "stream",
     "text": [
      "Faculty homepage URLs saved to bio_urls.txt\n"
     ]
    }
   ],
   "source": [
    "import requests #import lib requests to fetch the webpage content\n",
    "from bs4 import BeautifulSoup #Used for parsing and navigating the HTML content of the webpage.\n",
    "\n",
    "\n",
    "faculty_directory_url = \"https://cs.illinois.edu/about/people/all-faculty\"\n",
    "\n",
    "response = requests.get(faculty_directory_url)\n",
    "\n",
    "if response.status_code == 200: #checking for webpage if it is retrieved without errors\n",
    "    soup = BeautifulSoup(response.content, \"html.parser\")\n",
    "\n",
    "    faculty_list = soup.find_all(\"div\", class_=\"name\") #looks for all div elements with the class name \"name\" in the parsed HTML content.\n",
    "    faculty_homepage_urls = []\n",
    "\n",
    "    for faculty in faculty_list:\n",
    "        homepage_url_element = faculty.find(\"a\", href=True)\n",
    "        if homepage_url_element:\n",
    "            homepage_url = homepage_url_element['href']\n",
    "            faculty_homepage_urls.append(homepage_url)\n",
    "\n",
    "    with open(\"bio_urls.txt\", \"w\") as bio_url_file: #write mode to save URLs\n",
    "        for url in faculty_homepage_urls:\n",
    "            bio_url_file.write(url + \"\\n\")\n",
    "\n",
    "    print(\"Faculty homepage URLs saved to bio_urls.txt\")\n",
    "\n"
   ]
  },
  {
   "cell_type": "code",
   "execution_count": null,
   "id": "118ceb23",
   "metadata": {},
   "outputs": [],
   "source": []
  }
 ],
 "metadata": {
  "kernelspec": {
   "display_name": "Python 3 (ipykernel)",
   "language": "python",
   "name": "python3"
  },
  "language_info": {
   "codemirror_mode": {
    "name": "ipython",
    "version": 3
   },
   "file_extension": ".py",
   "mimetype": "text/x-python",
   "name": "python",
   "nbconvert_exporter": "python",
   "pygments_lexer": "ipython3",
   "version": "3.11.4"
  }
 },
 "nbformat": 4,
 "nbformat_minor": 5
}
